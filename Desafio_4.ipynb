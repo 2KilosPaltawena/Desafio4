{
  "nbformat": 4,
  "nbformat_minor": 0,
  "metadata": {
    "colab": {
      "name": "Desafio 4.ipynb",
      "provenance": [],
      "collapsed_sections": [],
      "include_colab_link": true
    },
    "kernelspec": {
      "name": "python3",
      "display_name": "Python 3"
    },
    "language_info": {
      "name": "python"
    }
  },
  "cells": [
    {
      "cell_type": "markdown",
      "metadata": {
        "id": "view-in-github",
        "colab_type": "text"
      },
      "source": [
        "<a href=\"https://colab.research.google.com/github/FelipeSotoG/Desafio4/blob/main/Desafio_4.ipynb\" target=\"_parent\"><img src=\"https://colab.research.google.com/assets/colab-badge.svg\" alt=\"Open In Colab\"/></a>"
      ]
    },
    {
      "cell_type": "markdown",
      "source": [
        "Se cambio \"games.csv\" a \"Input.csv\" para su proceso"
      ],
      "metadata": {
        "id": "Gn4sUJlK1aje"
      }
    },
    {
      "cell_type": "markdown",
      "source": [
        "**texto en negrita**# Aprendamos a usar Keras\n",
        "\n",
        "> Bloc con sangría\n",
        "\n",
        "\n",
        "Keras es una librería para python que nos permite crear redes neuronales de manera rápida y eficiente. De esta manera nos evitamos las implementaciones de componentes más complejos y nos podemos concentrar en encontrar los parámetros apropiados para nuestra tarea de predicción. \n",
        "\n",
        "Esta vez haremos una tarea de clasificación, específicamente del dataset de predicción del ganador en una ranked de lol.\n",
        "\n",
        "<p align=center>\n",
        "  <img src=\"https://1000marcas.net/wp-content/uploads/2020/11/League-of-Legends-Logo-2009.jpg\" height=\"200\">\n",
        "</p>\n",
        "\n",
        "Primero se deben importar las librerías necesarias. Utilizaremos Keras para la creación de la red neuronal, Pandas para leer nuestro csv con los datos de enrtenamiento y algunas funciones de sklearn para procesar estos datos."
      ],
      "metadata": {
        "id": "c7n2qxcXXQ6y"
      }
    },
    {
      "cell_type": "code",
      "execution_count": null,
      "metadata": {
        "id": "qrIKmAFNXNb-"
      },
      "outputs": [],
      "source": [
        "import keras\n",
        "import pandas as pd\n",
        "import numpy as np\n",
        "from sklearn.preprocessing import OneHotEncoder, StandardScaler\n",
        "from sklearn.model_selection import train_test_split\n",
        "import seaborn as sns\n",
        "import matplotlib.pyplot as plt"
      ]
    },
    {
      "cell_type": "markdown",
      "source": [
        "Con pd.read_csv() podemos leer un csv a partir de un archivo local o una url."
      ],
      "metadata": {
        "id": "njW_c4gvPf_s"
      }
    },
    {
      "cell_type": "code",
      "source": [
        "dataset = 'Input.csv'\n",
        "df = pd.read_csv(dataset)\n",
        "df.head()"
      ],
      "metadata": {
        "id": "dzp26mEBPg5v",
        "outputId": "4ad90246-31fe-45cb-8f2d-4b3097d24506",
        "colab": {
          "base_uri": "https://localhost:8080/",
          "height": 299
        }
      },
      "execution_count": null,
      "outputs": [
        {
          "output_type": "execute_result",
          "data": {
            "text/plain": [
              "       gameId   creationTime  gameDuration  seasonId  winner  firstBlood  \\\n",
              "0  3326086514  1504279457970          1949         9       1           2   \n",
              "1  3229566029  1497848803862          1851         9       1           1   \n",
              "2  3327363504  1504360103310          1493         9       1           2   \n",
              "3  3326856598  1504348503996          1758         9       1           1   \n",
              "4  3330080762  1504554410899          2094         9       1           2   \n",
              "\n",
              "   firstTower  firstInhibitor  firstBaron  firstDragon  ...  t2_towerKills  \\\n",
              "0           1               1           1            1  ...              5   \n",
              "1           1               1           0            1  ...              2   \n",
              "2           1               1           1            2  ...              2   \n",
              "3           1               1           1            1  ...              0   \n",
              "4           1               1           1            1  ...              3   \n",
              "\n",
              "   t2_inhibitorKills  t2_baronKills  t2_dragonKills  t2_riftHeraldKills  \\\n",
              "0                0.0            0.0             1.0                 1.0   \n",
              "1                0.0            0.0             0.0                 0.0   \n",
              "2                0.0            0.0             1.0                 0.0   \n",
              "3                0.0            0.0             0.0                 0.0   \n",
              "4                0.0            0.0             1.0                 0.0   \n",
              "\n",
              "   t2_ban1  t2_ban2  t2_ban3  t2_ban4  t2_ban5  \n",
              "0    114.0     67.0     43.0     16.0     51.0  \n",
              "1     11.0     67.0    238.0     51.0    420.0  \n",
              "2    157.0    238.0    121.0     57.0     28.0  \n",
              "3    164.0     18.0    141.0     40.0     51.0  \n",
              "4     86.0     11.0    201.0    122.0     18.0  \n",
              "\n",
              "[5 rows x 61 columns]"
            ],
            "text/html": [
              "\n",
              "  <div id=\"df-7cd546c4-9a07-42d2-954d-f313eaa429c3\">\n",
              "    <div class=\"colab-df-container\">\n",
              "      <div>\n",
              "<style scoped>\n",
              "    .dataframe tbody tr th:only-of-type {\n",
              "        vertical-align: middle;\n",
              "    }\n",
              "\n",
              "    .dataframe tbody tr th {\n",
              "        vertical-align: top;\n",
              "    }\n",
              "\n",
              "    .dataframe thead th {\n",
              "        text-align: right;\n",
              "    }\n",
              "</style>\n",
              "<table border=\"1\" class=\"dataframe\">\n",
              "  <thead>\n",
              "    <tr style=\"text-align: right;\">\n",
              "      <th></th>\n",
              "      <th>gameId</th>\n",
              "      <th>creationTime</th>\n",
              "      <th>gameDuration</th>\n",
              "      <th>seasonId</th>\n",
              "      <th>winner</th>\n",
              "      <th>firstBlood</th>\n",
              "      <th>firstTower</th>\n",
              "      <th>firstInhibitor</th>\n",
              "      <th>firstBaron</th>\n",
              "      <th>firstDragon</th>\n",
              "      <th>...</th>\n",
              "      <th>t2_towerKills</th>\n",
              "      <th>t2_inhibitorKills</th>\n",
              "      <th>t2_baronKills</th>\n",
              "      <th>t2_dragonKills</th>\n",
              "      <th>t2_riftHeraldKills</th>\n",
              "      <th>t2_ban1</th>\n",
              "      <th>t2_ban2</th>\n",
              "      <th>t2_ban3</th>\n",
              "      <th>t2_ban4</th>\n",
              "      <th>t2_ban5</th>\n",
              "    </tr>\n",
              "  </thead>\n",
              "  <tbody>\n",
              "    <tr>\n",
              "      <th>0</th>\n",
              "      <td>3326086514</td>\n",
              "      <td>1504279457970</td>\n",
              "      <td>1949</td>\n",
              "      <td>9</td>\n",
              "      <td>1</td>\n",
              "      <td>2</td>\n",
              "      <td>1</td>\n",
              "      <td>1</td>\n",
              "      <td>1</td>\n",
              "      <td>1</td>\n",
              "      <td>...</td>\n",
              "      <td>5</td>\n",
              "      <td>0.0</td>\n",
              "      <td>0.0</td>\n",
              "      <td>1.0</td>\n",
              "      <td>1.0</td>\n",
              "      <td>114.0</td>\n",
              "      <td>67.0</td>\n",
              "      <td>43.0</td>\n",
              "      <td>16.0</td>\n",
              "      <td>51.0</td>\n",
              "    </tr>\n",
              "    <tr>\n",
              "      <th>1</th>\n",
              "      <td>3229566029</td>\n",
              "      <td>1497848803862</td>\n",
              "      <td>1851</td>\n",
              "      <td>9</td>\n",
              "      <td>1</td>\n",
              "      <td>1</td>\n",
              "      <td>1</td>\n",
              "      <td>1</td>\n",
              "      <td>0</td>\n",
              "      <td>1</td>\n",
              "      <td>...</td>\n",
              "      <td>2</td>\n",
              "      <td>0.0</td>\n",
              "      <td>0.0</td>\n",
              "      <td>0.0</td>\n",
              "      <td>0.0</td>\n",
              "      <td>11.0</td>\n",
              "      <td>67.0</td>\n",
              "      <td>238.0</td>\n",
              "      <td>51.0</td>\n",
              "      <td>420.0</td>\n",
              "    </tr>\n",
              "    <tr>\n",
              "      <th>2</th>\n",
              "      <td>3327363504</td>\n",
              "      <td>1504360103310</td>\n",
              "      <td>1493</td>\n",
              "      <td>9</td>\n",
              "      <td>1</td>\n",
              "      <td>2</td>\n",
              "      <td>1</td>\n",
              "      <td>1</td>\n",
              "      <td>1</td>\n",
              "      <td>2</td>\n",
              "      <td>...</td>\n",
              "      <td>2</td>\n",
              "      <td>0.0</td>\n",
              "      <td>0.0</td>\n",
              "      <td>1.0</td>\n",
              "      <td>0.0</td>\n",
              "      <td>157.0</td>\n",
              "      <td>238.0</td>\n",
              "      <td>121.0</td>\n",
              "      <td>57.0</td>\n",
              "      <td>28.0</td>\n",
              "    </tr>\n",
              "    <tr>\n",
              "      <th>3</th>\n",
              "      <td>3326856598</td>\n",
              "      <td>1504348503996</td>\n",
              "      <td>1758</td>\n",
              "      <td>9</td>\n",
              "      <td>1</td>\n",
              "      <td>1</td>\n",
              "      <td>1</td>\n",
              "      <td>1</td>\n",
              "      <td>1</td>\n",
              "      <td>1</td>\n",
              "      <td>...</td>\n",
              "      <td>0</td>\n",
              "      <td>0.0</td>\n",
              "      <td>0.0</td>\n",
              "      <td>0.0</td>\n",
              "      <td>0.0</td>\n",
              "      <td>164.0</td>\n",
              "      <td>18.0</td>\n",
              "      <td>141.0</td>\n",
              "      <td>40.0</td>\n",
              "      <td>51.0</td>\n",
              "    </tr>\n",
              "    <tr>\n",
              "      <th>4</th>\n",
              "      <td>3330080762</td>\n",
              "      <td>1504554410899</td>\n",
              "      <td>2094</td>\n",
              "      <td>9</td>\n",
              "      <td>1</td>\n",
              "      <td>2</td>\n",
              "      <td>1</td>\n",
              "      <td>1</td>\n",
              "      <td>1</td>\n",
              "      <td>1</td>\n",
              "      <td>...</td>\n",
              "      <td>3</td>\n",
              "      <td>0.0</td>\n",
              "      <td>0.0</td>\n",
              "      <td>1.0</td>\n",
              "      <td>0.0</td>\n",
              "      <td>86.0</td>\n",
              "      <td>11.0</td>\n",
              "      <td>201.0</td>\n",
              "      <td>122.0</td>\n",
              "      <td>18.0</td>\n",
              "    </tr>\n",
              "  </tbody>\n",
              "</table>\n",
              "<p>5 rows × 61 columns</p>\n",
              "</div>\n",
              "      <button class=\"colab-df-convert\" onclick=\"convertToInteractive('df-7cd546c4-9a07-42d2-954d-f313eaa429c3')\"\n",
              "              title=\"Convert this dataframe to an interactive table.\"\n",
              "              style=\"display:none;\">\n",
              "        \n",
              "  <svg xmlns=\"http://www.w3.org/2000/svg\" height=\"24px\"viewBox=\"0 0 24 24\"\n",
              "       width=\"24px\">\n",
              "    <path d=\"M0 0h24v24H0V0z\" fill=\"none\"/>\n",
              "    <path d=\"M18.56 5.44l.94 2.06.94-2.06 2.06-.94-2.06-.94-.94-2.06-.94 2.06-2.06.94zm-11 1L8.5 8.5l.94-2.06 2.06-.94-2.06-.94L8.5 2.5l-.94 2.06-2.06.94zm10 10l.94 2.06.94-2.06 2.06-.94-2.06-.94-.94-2.06-.94 2.06-2.06.94z\"/><path d=\"M17.41 7.96l-1.37-1.37c-.4-.4-.92-.59-1.43-.59-.52 0-1.04.2-1.43.59L10.3 9.45l-7.72 7.72c-.78.78-.78 2.05 0 2.83L4 21.41c.39.39.9.59 1.41.59.51 0 1.02-.2 1.41-.59l7.78-7.78 2.81-2.81c.8-.78.8-2.07 0-2.86zM5.41 20L4 18.59l7.72-7.72 1.47 1.35L5.41 20z\"/>\n",
              "  </svg>\n",
              "      </button>\n",
              "      \n",
              "  <style>\n",
              "    .colab-df-container {\n",
              "      display:flex;\n",
              "      flex-wrap:wrap;\n",
              "      gap: 12px;\n",
              "    }\n",
              "\n",
              "    .colab-df-convert {\n",
              "      background-color: #E8F0FE;\n",
              "      border: none;\n",
              "      border-radius: 50%;\n",
              "      cursor: pointer;\n",
              "      display: none;\n",
              "      fill: #1967D2;\n",
              "      height: 32px;\n",
              "      padding: 0 0 0 0;\n",
              "      width: 32px;\n",
              "    }\n",
              "\n",
              "    .colab-df-convert:hover {\n",
              "      background-color: #E2EBFA;\n",
              "      box-shadow: 0px 1px 2px rgba(60, 64, 67, 0.3), 0px 1px 3px 1px rgba(60, 64, 67, 0.15);\n",
              "      fill: #174EA6;\n",
              "    }\n",
              "\n",
              "    [theme=dark] .colab-df-convert {\n",
              "      background-color: #3B4455;\n",
              "      fill: #D2E3FC;\n",
              "    }\n",
              "\n",
              "    [theme=dark] .colab-df-convert:hover {\n",
              "      background-color: #434B5C;\n",
              "      box-shadow: 0px 1px 3px 1px rgba(0, 0, 0, 0.15);\n",
              "      filter: drop-shadow(0px 1px 2px rgba(0, 0, 0, 0.3));\n",
              "      fill: #FFFFFF;\n",
              "    }\n",
              "  </style>\n",
              "\n",
              "      <script>\n",
              "        const buttonEl =\n",
              "          document.querySelector('#df-7cd546c4-9a07-42d2-954d-f313eaa429c3 button.colab-df-convert');\n",
              "        buttonEl.style.display =\n",
              "          google.colab.kernel.accessAllowed ? 'block' : 'none';\n",
              "\n",
              "        async function convertToInteractive(key) {\n",
              "          const element = document.querySelector('#df-7cd546c4-9a07-42d2-954d-f313eaa429c3');\n",
              "          const dataTable =\n",
              "            await google.colab.kernel.invokeFunction('convertToInteractive',\n",
              "                                                     [key], {});\n",
              "          if (!dataTable) return;\n",
              "\n",
              "          const docLinkHtml = 'Like what you see? Visit the ' +\n",
              "            '<a target=\"_blank\" href=https://colab.research.google.com/notebooks/data_table.ipynb>data table notebook</a>'\n",
              "            + ' to learn more about interactive tables.';\n",
              "          element.innerHTML = '';\n",
              "          dataTable['output_type'] = 'display_data';\n",
              "          await google.colab.output.renderOutput(dataTable, element);\n",
              "          const docLink = document.createElement('div');\n",
              "          docLink.innerHTML = docLinkHtml;\n",
              "          element.appendChild(docLink);\n",
              "        }\n",
              "      </script>\n",
              "    </div>\n",
              "  </div>\n",
              "  "
            ]
          },
          "metadata": {},
          "execution_count": 18
        }
      ]
    },
    {
      "cell_type": "code",
      "source": [
        "df=pd.read_csv(\"Input.csv\",index_col=\"gameId\")\n",
        "df=df[:500]\n",
        "Y=df[\"winner\"]\n",
        "Y[Y==1]=0\n",
        "Y[Y==2]=1\n",
        "X=df.drop([\"winner\",\"seasonId\"],axis=1)\n",
        "X = (X-X.mean())/X.std()\n",
        "p=60"
      ],
      "metadata": {
        "id": "Kbsnt4dSSg3G",
        "colab": {
          "base_uri": "https://localhost:8080/"
        },
        "outputId": "a85cce0f-dde3-4df8-a644-e82b1d5cdb2d"
      },
      "execution_count": null,
      "outputs": [
        {
          "output_type": "stream",
          "name": "stderr",
          "text": [
            "/usr/local/lib/python3.7/dist-packages/ipykernel_launcher.py:5: SettingWithCopyWarning: \n",
            "A value is trying to be set on a copy of a slice from a DataFrame\n",
            "\n",
            "See the caveats in the documentation: https://pandas.pydata.org/pandas-docs/stable/user_guide/indexing.html#returning-a-view-versus-a-copy\n",
            "  \"\"\"\n"
          ]
        }
      ]
    },
    {
      "cell_type": "markdown",
      "source": [
        "Finalmente, hay que dividir los datos en Train y Test. Durante el \n",
        "\n",
        "---\n",
        "\n",
        "entrenamiento, la red sólo verá los primeros datos, esto es para asegurarse que no esté memorizando solamente. Usualmente la proporción para dividir estos datos es 70/30, siendo mayor la cantidad de datos para entrenamiento."
      ],
      "metadata": {
        "id": "S6tvv6RbSgEY"
      }
    },
    {
      "cell_type": "code",
      "source": [
        "# Split the data set into training and testing\n",
        "X_train, X_test, Y_train, Y_test = train_test_split(\n",
        "    X, Y, test_size=0.3, random_state=2)\n",
        "print(X_train)\n",
        "print(Y_train)"
      ],
      "metadata": {
        "colab": {
          "base_uri": "https://localhost:8080/"
        },
        "id": "JtRD8H0i6Cga",
        "outputId": "f56b3833-ff2a-4f12-b8d1-6e39ff6968ff"
      },
      "execution_count": null,
      "outputs": [
        {
          "output_type": "stream",
          "name": "stdout",
          "text": [
            "            creationTime  gameDuration  firstBlood  firstTower  \\\n",
            "gameId                                                           \n",
            "3246799766     -2.204339     -3.253116   -0.956032   -2.704363   \n",
            "3326699508      0.677362     -0.241201   -0.956032   -0.841854   \n",
            "3290591993     -0.630318      0.053892    1.027437    1.020655   \n",
            "3330134561      0.793731     -0.445799    1.027437   -0.841854   \n",
            "3268995334     -1.419073      0.543746   -0.956032   -0.841854   \n",
            "...                  ...           ...         ...         ...   \n",
            "3289287394     -0.677192     -0.658266   -0.956032    1.020655   \n",
            "3287517913     -0.737630     -0.502850    1.027437   -0.841854   \n",
            "3331381617      0.839226      0.451284   -0.956032    1.020655   \n",
            "3322311228      0.493960     -0.253005    1.027437   -0.841854   \n",
            "3326688250      0.676595      1.047371    1.027437    1.020655   \n",
            "\n",
            "            firstInhibitor  firstBaron  firstDragon  firstRiftHerald  \\\n",
            "gameId                                                                 \n",
            "3246799766       -2.014664   -1.111626    -2.542317        -0.920591   \n",
            "3326699508       -2.014664   -1.111626     0.945086        -0.920591   \n",
            "3290591993        1.028635   -1.111626    -0.798615        -0.920591   \n",
            "3330134561       -0.493014   -1.111626    -2.542317        -0.920591   \n",
            "3268995334       -0.493014   -1.111626     0.945086         1.521294   \n",
            "...                    ...         ...          ...              ...   \n",
            "3289287394        1.028635   -1.111626     0.945086        -0.920591   \n",
            "3287517913       -0.493014    0.088834     0.945086         0.300352   \n",
            "3331381617        1.028635    1.289295     0.945086         1.521294   \n",
            "3322311228       -0.493014   -1.111626    -0.798615        -0.920591   \n",
            "3326688250        1.028635    1.289295     0.945086         1.521294   \n",
            "\n",
            "            t1_champ1id  t1_champ1_sum1  ...  t2_towerKills  \\\n",
            "gameId                                   ...                  \n",
            "3246799766    -0.442158       -0.133498  ...      -1.412559   \n",
            "3326699508    -0.806165        0.111903  ...      -0.895517   \n",
            "3290591993     2.529152       -0.869702  ...       0.914131   \n",
            "3330134561    -0.679186       -0.624301  ...      -1.154038   \n",
            "3268995334    -0.086617        1.829713  ...      -0.895517   \n",
            "...                 ...             ...  ...            ...   \n",
            "3289287394    -0.145874       -0.624301  ...       1.172652   \n",
            "3287517913    -0.289783       -0.624301  ...      -1.154038   \n",
            "3331381617    -0.086617       -0.624301  ...       0.655610   \n",
            "3322311228    -0.763838        1.338910  ...      -1.412559   \n",
            "3326688250    -0.179735        1.338910  ...       1.172652   \n",
            "\n",
            "            t2_inhibitorKills  t2_baronKills  t2_dragonKills  \\\n",
            "gameId                                                         \n",
            "3246799766          -0.798200      -0.677124       -1.155282   \n",
            "3326699508          -0.798200      -0.677124        0.465030   \n",
            "3290591993           0.782394      -0.677124       -0.345126   \n",
            "3330134561          -0.798200      -0.677124       -1.155282   \n",
            "3268995334          -0.798200      -0.677124        1.275185   \n",
            "...                       ...            ...             ...   \n",
            "3289287394           0.782394      -0.677124        0.465030   \n",
            "3287517913          -0.798200      -0.677124       -0.345126   \n",
            "3331381617           0.782394       0.974397        1.275185   \n",
            "3322311228          -0.798200      -0.677124       -1.155282   \n",
            "3326688250           0.782394       0.974397        2.895497   \n",
            "\n",
            "            t2_riftHeraldKills   t2_ban1   t2_ban2   t2_ban3   t2_ban4  \\\n",
            "gameId                                                                   \n",
            "3246799766           -0.564467 -0.014003  0.184542 -0.044197 -0.020133   \n",
            "3326699508           -0.564467  0.179919 -0.124505  0.099499  0.192918   \n",
            "3290591993           -0.564467 -0.993822 -0.299631  0.489529 -0.588270   \n",
            "3330134561           -0.564467  0.006410 -0.412948  1.320910 -0.588270   \n",
            "3268995334            1.768040  0.506526  0.545097 -0.783202 -0.313079   \n",
            "...                        ...       ...       ...       ...       ...   \n",
            "3289287394           -0.564467  0.506526 -0.443853  0.099499 -0.055642   \n",
            "3287517913           -0.564467  0.088061 -0.443853 -0.136572 -0.570515   \n",
            "3331381617            1.768040  0.128887  0.184542 -0.937161 -0.046765   \n",
            "3322311228           -0.564467 -0.524326  0.133034  0.325306  0.024252   \n",
            "3326688250            1.768040 -0.187513 -0.660186 -1.050065 -0.463990   \n",
            "\n",
            "             t2_ban5  \n",
            "gameId                \n",
            "3246799766 -0.740593  \n",
            "3326699508 -0.630062  \n",
            "3290591993  0.384806  \n",
            "3330134561 -0.820978  \n",
            "3268995334 -0.388906  \n",
            "...              ...  \n",
            "3289287394 -0.459243  \n",
            "3287517913  0.515433  \n",
            "3331381617  1.359482  \n",
            "3322311228  0.545577  \n",
            "3326688250  1.359482  \n",
            "\n",
            "[350 rows x 58 columns]\n",
            "gameId\n",
            "3246799766    0\n",
            "3326699508    0\n",
            "3290591993    1\n",
            "3330134561    0\n",
            "3268995334    0\n",
            "             ..\n",
            "3289287394    1\n",
            "3287517913    0\n",
            "3331381617    1\n",
            "3322311228    0\n",
            "3326688250    1\n",
            "Name: winner, Length: 350, dtype: int64\n"
          ]
        }
      ]
    },
    {
      "cell_type": "code",
      "source": [
        "print(Y_train.value_counts())"
      ],
      "metadata": {
        "colab": {
          "base_uri": "https://localhost:8080/"
        },
        "id": "TP6jV0MeVTUu",
        "outputId": "c45f7c4a-5c7f-42d3-aa48-198854a2ef1a"
      },
      "execution_count": null,
      "outputs": [
        {
          "output_type": "stream",
          "name": "stdout",
          "text": [
            "1    180\n",
            "0    170\n",
            "Name: winner, dtype: int64\n"
          ]
        }
      ]
    },
    {
      "cell_type": "markdown",
      "source": [
        "Con los datos ya procesados y divididos en set de entrenamiento y test, ya podemos crear la red. Gracias a keras, este proceso es muy simple!"
      ],
      "metadata": {
        "id": "pzS8YFNTQcDH"
      }
    },
    {
      "cell_type": "markdown",
      "source": [
        "Relu + Sigmoid"
      ],
      "metadata": {
        "id": "pOMYklrB94qg"
      }
    },
    {
      "cell_type": "code",
      "source": [
        "from keras.engine import input_spec\n",
        "from keras.models import Sequential\n",
        "from keras.layers import Dense\n",
        "\n",
        "modelo = Sequential()\n",
        "modelo.add(Dense(4, input_dim=58, activation=\"relu\"))\n",
        "modelo.add(Dense(10, activation=\"relu\"))\n",
        "modelo.add(Dense(4, activation=\"relu\"))\n",
        "modelo.add(Dense(1, activation=\"sigmoid\"))\n",
        "\n",
        "modelo.compile(loss='mse', optimizer='adam')\n"
      ],
      "metadata": {
        "id": "hzz1EVKX7NxU"
      },
      "execution_count": null,
      "outputs": []
    },
    {
      "cell_type": "markdown",
      "source": [
        "Sigmoid"
      ],
      "metadata": {
        "id": "BZvsBcWM97V_"
      }
    },
    {
      "cell_type": "code",
      "source": [
        "from keras.engine import input_spec\n",
        "from keras.models import Sequential\n",
        "from keras.layers import Dense\n",
        "\n",
        "modelo = Sequential()\n",
        "modelo.add(Dense(4, input_dim=58, activation=\"sigmoid\"))\n",
        "modelo.add(Dense(10, activation=\"sigmoid\"))\n",
        "modelo.add(Dense(4, activation=\"sigmoid\"))\n",
        "modelo.add(Dense(1, activation=\"sigmoid\"))\n",
        "\n",
        "modelo.compile(loss='mse', optimizer='adam')\n"
      ],
      "metadata": {
        "id": "trcHibhitCCd"
      },
      "execution_count": null,
      "outputs": []
    },
    {
      "cell_type": "markdown",
      "source": [
        "El código anterior definió una red neuronal, con una capa de entrada de 4 neuronas, 3 capas ocultas de 8 neuronas cada una y una capa de salida con 3 neuronas correspondientes a las clases. La última capa realiza una función de activación *softmax*, que permite transformar las salidas de las neuronas en una probabilidad, de modo que la neurona con el valor más alto será la seleccionada.\n",
        "\n",
        "Finalmente, el modelo se optimizará con una función de pérdida del error cuadrático medio y con un optimizador *adam*, por 150 epocas."
      ],
      "metadata": {
        "id": "VDx3tvBCQqoH"
      }
    },
    {
      "cell_type": "code",
      "source": [
        "history = modelo.fit(X_train, Y_train, epochs=50, batch_size=10, validation_split=0.1)"
      ],
      "metadata": {
        "colab": {
          "base_uri": "https://localhost:8080/"
        },
        "id": "w6ihsA_09NzS",
        "outputId": "aeba3766-bb73-4308-98c3-e99d6c3fd61a"
      },
      "execution_count": null,
      "outputs": [
        {
          "output_type": "stream",
          "name": "stdout",
          "text": [
            "Epoch 1/50\n",
            "32/32 [==============================] - 1s 6ms/step - loss: 0.3201 - val_loss: 0.2803\n",
            "Epoch 2/50\n",
            "32/32 [==============================] - 0s 2ms/step - loss: 0.3023 - val_loss: 0.2679\n",
            "Epoch 3/50\n",
            "32/32 [==============================] - 0s 3ms/step - loss: 0.2868 - val_loss: 0.2579\n",
            "Epoch 4/50\n",
            "32/32 [==============================] - 0s 3ms/step - loss: 0.2734 - val_loss: 0.2506\n",
            "Epoch 5/50\n",
            "32/32 [==============================] - 0s 3ms/step - loss: 0.2634 - val_loss: 0.2453\n",
            "Epoch 6/50\n",
            "32/32 [==============================] - 0s 2ms/step - loss: 0.2553 - val_loss: 0.2419\n",
            "Epoch 7/50\n",
            "32/32 [==============================] - 0s 3ms/step - loss: 0.2493 - val_loss: 0.2393\n",
            "Epoch 8/50\n",
            "32/32 [==============================] - 0s 2ms/step - loss: 0.2445 - val_loss: 0.2369\n",
            "Epoch 9/50\n",
            "32/32 [==============================] - 0s 3ms/step - loss: 0.2402 - val_loss: 0.2344\n",
            "Epoch 10/50\n",
            "32/32 [==============================] - 0s 3ms/step - loss: 0.2360 - val_loss: 0.2314\n",
            "Epoch 11/50\n",
            "32/32 [==============================] - 0s 3ms/step - loss: 0.2316 - val_loss: 0.2279\n",
            "Epoch 12/50\n",
            "32/32 [==============================] - 0s 3ms/step - loss: 0.2269 - val_loss: 0.2235\n",
            "Epoch 13/50\n",
            "32/32 [==============================] - 0s 2ms/step - loss: 0.2212 - val_loss: 0.2187\n",
            "Epoch 14/50\n",
            "32/32 [==============================] - 0s 2ms/step - loss: 0.2151 - val_loss: 0.2130\n",
            "Epoch 15/50\n",
            "32/32 [==============================] - 0s 3ms/step - loss: 0.2082 - val_loss: 0.2060\n",
            "Epoch 16/50\n",
            "32/32 [==============================] - 0s 3ms/step - loss: 0.2004 - val_loss: 0.1992\n",
            "Epoch 17/50\n",
            "32/32 [==============================] - 0s 3ms/step - loss: 0.1920 - val_loss: 0.1917\n",
            "Epoch 18/50\n",
            "32/32 [==============================] - 0s 3ms/step - loss: 0.1829 - val_loss: 0.1838\n",
            "Epoch 19/50\n",
            "32/32 [==============================] - 0s 3ms/step - loss: 0.1731 - val_loss: 0.1757\n",
            "Epoch 20/50\n",
            "32/32 [==============================] - 0s 3ms/step - loss: 0.1633 - val_loss: 0.1668\n",
            "Epoch 21/50\n",
            "32/32 [==============================] - 0s 3ms/step - loss: 0.1532 - val_loss: 0.1586\n",
            "Epoch 22/50\n",
            "32/32 [==============================] - 0s 2ms/step - loss: 0.1431 - val_loss: 0.1504\n",
            "Epoch 23/50\n",
            "32/32 [==============================] - 0s 2ms/step - loss: 0.1335 - val_loss: 0.1427\n",
            "Epoch 24/50\n",
            "32/32 [==============================] - 0s 2ms/step - loss: 0.1240 - val_loss: 0.1353\n",
            "Epoch 25/50\n",
            "32/32 [==============================] - 0s 3ms/step - loss: 0.1153 - val_loss: 0.1281\n",
            "Epoch 26/50\n",
            "32/32 [==============================] - 0s 2ms/step - loss: 0.1070 - val_loss: 0.1216\n",
            "Epoch 27/50\n",
            "32/32 [==============================] - 0s 2ms/step - loss: 0.0993 - val_loss: 0.1149\n",
            "Epoch 28/50\n",
            "32/32 [==============================] - 0s 2ms/step - loss: 0.0925 - val_loss: 0.1093\n",
            "Epoch 29/50\n",
            "32/32 [==============================] - 0s 3ms/step - loss: 0.0862 - val_loss: 0.1042\n",
            "Epoch 30/50\n",
            "32/32 [==============================] - 0s 3ms/step - loss: 0.0802 - val_loss: 0.1000\n",
            "Epoch 31/50\n",
            "32/32 [==============================] - 0s 3ms/step - loss: 0.0750 - val_loss: 0.0955\n",
            "Epoch 32/50\n",
            "32/32 [==============================] - 0s 2ms/step - loss: 0.0702 - val_loss: 0.0916\n",
            "Epoch 33/50\n",
            "32/32 [==============================] - 0s 2ms/step - loss: 0.0659 - val_loss: 0.0881\n",
            "Epoch 34/50\n",
            "32/32 [==============================] - 0s 3ms/step - loss: 0.0620 - val_loss: 0.0843\n",
            "Epoch 35/50\n",
            "32/32 [==============================] - 0s 3ms/step - loss: 0.0584 - val_loss: 0.0822\n",
            "Epoch 36/50\n",
            "32/32 [==============================] - 0s 3ms/step - loss: 0.0552 - val_loss: 0.0790\n",
            "Epoch 37/50\n",
            "32/32 [==============================] - 0s 3ms/step - loss: 0.0523 - val_loss: 0.0767\n",
            "Epoch 38/50\n",
            "32/32 [==============================] - 0s 3ms/step - loss: 0.0497 - val_loss: 0.0748\n",
            "Epoch 39/50\n",
            "32/32 [==============================] - 0s 3ms/step - loss: 0.0474 - val_loss: 0.0730\n",
            "Epoch 40/50\n",
            "32/32 [==============================] - 0s 3ms/step - loss: 0.0454 - val_loss: 0.0716\n",
            "Epoch 41/50\n",
            "32/32 [==============================] - 0s 3ms/step - loss: 0.0436 - val_loss: 0.0702\n",
            "Epoch 42/50\n",
            "32/32 [==============================] - 0s 2ms/step - loss: 0.0418 - val_loss: 0.0691\n",
            "Epoch 43/50\n",
            "32/32 [==============================] - 0s 3ms/step - loss: 0.0404 - val_loss: 0.0684\n",
            "Epoch 44/50\n",
            "32/32 [==============================] - 0s 3ms/step - loss: 0.0389 - val_loss: 0.0668\n",
            "Epoch 45/50\n",
            "32/32 [==============================] - 0s 3ms/step - loss: 0.0377 - val_loss: 0.0662\n",
            "Epoch 46/50\n",
            "32/32 [==============================] - 0s 3ms/step - loss: 0.0365 - val_loss: 0.0655\n",
            "Epoch 47/50\n",
            "32/32 [==============================] - 0s 2ms/step - loss: 0.0354 - val_loss: 0.0647\n",
            "Epoch 48/50\n",
            "32/32 [==============================] - 0s 2ms/step - loss: 0.0343 - val_loss: 0.0638\n",
            "Epoch 49/50\n",
            "32/32 [==============================] - 0s 3ms/step - loss: 0.0332 - val_loss: 0.0631\n",
            "Epoch 50/50\n",
            "32/32 [==============================] - 0s 3ms/step - loss: 0.0321 - val_loss: 0.0630\n"
          ]
        }
      ]
    },
    {
      "cell_type": "code",
      "source": [
        "history = modelo.fit(X_train, Y_train, epochs=50, batch_size=10)"
      ],
      "metadata": {
        "colab": {
          "base_uri": "https://localhost:8080/"
        },
        "id": "Z5aF11atAuEk",
        "outputId": "6e03c81b-06a3-4347-cf6a-079ee1aed876"
      },
      "execution_count": null,
      "outputs": [
        {
          "output_type": "stream",
          "name": "stdout",
          "text": [
            "Epoch 1/50\n",
            "35/35 [==============================] - 0s 2ms/step - loss: 0.2585\n",
            "Epoch 2/50\n",
            "35/35 [==============================] - 0s 2ms/step - loss: 0.2549\n",
            "Epoch 3/50\n",
            "35/35 [==============================] - 0s 1ms/step - loss: 0.2518\n",
            "Epoch 4/50\n",
            "35/35 [==============================] - 0s 2ms/step - loss: 0.2494\n",
            "Epoch 5/50\n",
            "35/35 [==============================] - 0s 2ms/step - loss: 0.2469\n",
            "Epoch 6/50\n",
            "35/35 [==============================] - 0s 2ms/step - loss: 0.2447\n",
            "Epoch 7/50\n",
            "35/35 [==============================] - 0s 1ms/step - loss: 0.2421\n",
            "Epoch 8/50\n",
            "35/35 [==============================] - 0s 1ms/step - loss: 0.2392\n",
            "Epoch 9/50\n",
            "35/35 [==============================] - 0s 1ms/step - loss: 0.2357\n",
            "Epoch 10/50\n",
            "35/35 [==============================] - 0s 2ms/step - loss: 0.2314\n",
            "Epoch 11/50\n",
            "35/35 [==============================] - 0s 1ms/step - loss: 0.2258\n",
            "Epoch 12/50\n",
            "35/35 [==============================] - 0s 1ms/step - loss: 0.2192\n",
            "Epoch 13/50\n",
            "35/35 [==============================] - 0s 2ms/step - loss: 0.2109\n",
            "Epoch 14/50\n",
            "35/35 [==============================] - 0s 1ms/step - loss: 0.2013\n",
            "Epoch 15/50\n",
            "35/35 [==============================] - 0s 1ms/step - loss: 0.1903\n",
            "Epoch 16/50\n",
            "35/35 [==============================] - 0s 1ms/step - loss: 0.1783\n",
            "Epoch 17/50\n",
            "35/35 [==============================] - 0s 2ms/step - loss: 0.1660\n",
            "Epoch 18/50\n",
            "35/35 [==============================] - 0s 2ms/step - loss: 0.1536\n",
            "Epoch 19/50\n",
            "35/35 [==============================] - 0s 2ms/step - loss: 0.1415\n",
            "Epoch 20/50\n",
            "35/35 [==============================] - 0s 2ms/step - loss: 0.1301\n",
            "Epoch 21/50\n",
            "35/35 [==============================] - 0s 1ms/step - loss: 0.1194\n",
            "Epoch 22/50\n",
            "35/35 [==============================] - 0s 2ms/step - loss: 0.1096\n",
            "Epoch 23/50\n",
            "35/35 [==============================] - 0s 1ms/step - loss: 0.1011\n",
            "Epoch 24/50\n",
            "35/35 [==============================] - 0s 1ms/step - loss: 0.0933\n",
            "Epoch 25/50\n",
            "35/35 [==============================] - 0s 1ms/step - loss: 0.0867\n",
            "Epoch 26/50\n",
            "35/35 [==============================] - 0s 2ms/step - loss: 0.0806\n",
            "Epoch 27/50\n",
            "35/35 [==============================] - 0s 1ms/step - loss: 0.0754\n",
            "Epoch 28/50\n",
            "35/35 [==============================] - 0s 1ms/step - loss: 0.0707\n",
            "Epoch 29/50\n",
            "35/35 [==============================] - 0s 1ms/step - loss: 0.0662\n",
            "Epoch 30/50\n",
            "35/35 [==============================] - 0s 1ms/step - loss: 0.0624\n",
            "Epoch 31/50\n",
            "35/35 [==============================] - 0s 1ms/step - loss: 0.0586\n",
            "Epoch 32/50\n",
            "35/35 [==============================] - 0s 1ms/step - loss: 0.0554\n",
            "Epoch 33/50\n",
            "35/35 [==============================] - 0s 2ms/step - loss: 0.0525\n",
            "Epoch 34/50\n",
            "35/35 [==============================] - 0s 2ms/step - loss: 0.0499\n",
            "Epoch 35/50\n",
            "35/35 [==============================] - 0s 1ms/step - loss: 0.0477\n",
            "Epoch 36/50\n",
            "35/35 [==============================] - 0s 1ms/step - loss: 0.0456\n",
            "Epoch 37/50\n",
            "35/35 [==============================] - 0s 2ms/step - loss: 0.0438\n",
            "Epoch 38/50\n",
            "35/35 [==============================] - 0s 2ms/step - loss: 0.0421\n",
            "Epoch 39/50\n",
            "35/35 [==============================] - 0s 1ms/step - loss: 0.0405\n",
            "Epoch 40/50\n",
            "35/35 [==============================] - 0s 1ms/step - loss: 0.0391\n",
            "Epoch 41/50\n",
            "35/35 [==============================] - 0s 2ms/step - loss: 0.0378\n",
            "Epoch 42/50\n",
            "35/35 [==============================] - 0s 1ms/step - loss: 0.0366\n",
            "Epoch 43/50\n",
            "35/35 [==============================] - 0s 2ms/step - loss: 0.0355\n",
            "Epoch 44/50\n",
            "35/35 [==============================] - 0s 2ms/step - loss: 0.0343\n",
            "Epoch 45/50\n",
            "35/35 [==============================] - 0s 2ms/step - loss: 0.0333\n",
            "Epoch 46/50\n",
            "35/35 [==============================] - 0s 1ms/step - loss: 0.0322\n",
            "Epoch 47/50\n",
            "35/35 [==============================] - 0s 1ms/step - loss: 0.0310\n",
            "Epoch 48/50\n",
            "35/35 [==============================] - 0s 1ms/step - loss: 0.0299\n",
            "Epoch 49/50\n",
            "35/35 [==============================] - 0s 2ms/step - loss: 0.0286\n",
            "Epoch 50/50\n",
            "35/35 [==============================] - 0s 2ms/step - loss: 0.0276\n"
          ]
        }
      ]
    },
    {
      "cell_type": "code",
      "source": [
        "plt.plot(history.history['loss'])\n",
        "plt.title('Función de coste')\n",
        "plt.ylabel('loss')\n",
        "plt.xlabel('epoch')\n",
        "plt.legend(['train', 'test'], loc='upper left')\n",
        "plt.show()"
      ],
      "metadata": {
        "colab": {
          "base_uri": "https://localhost:8080/",
          "height": 294
        },
        "id": "cAVeK5OrA9s8",
        "outputId": "2447acae-9cd2-42fc-f09b-14038fb6b64a"
      },
      "execution_count": null,
      "outputs": [
        {
          "output_type": "display_data",
          "data": {
            "text/plain": [
              "<Figure size 432x288 with 1 Axes>"
            ],
            "image/png": "[encoded data removed]"
          },
          "metadata": {
            "needs_background": "light"
          }
        }
      ]
    },
    {
      "cell_type": "markdown",
      "source": [
        "Podemos ver como efectivamente, durante el entrenamiento, la función de coste nos indicó que el modelo va mejorando en sus predicciones."
      ],
      "metadata": {
        "id": "jRxzAxmPTN4-"
      }
    },
    {
      "cell_type": "code",
      "source": [
        "plt.plot(history.history['loss'])\n",
        "plt.plot(history.history['val_loss'])\n",
        "plt.title('Función de coste')\n",
        "plt.ylabel('loss')\n",
        "plt.xlabel('epoch')\n",
        "plt.legend(['train', 'test'], loc='upper left')\n",
        "plt.show()"
      ],
      "metadata": {
        "colab": {
          "base_uri": "https://localhost:8080/",
          "height": 294
        },
        "id": "rIt-3bQ_RrdW",
        "outputId": "ff7b34bc-1576-447a-defc-271b8424f83e"
      },
      "execution_count": null,
      "outputs": [
        {
          "output_type": "display_data",
          "data": {
            "text/plain": [
              "<Figure size 432x288 with 1 Axes>"
            ],
            "image/png": "[encoded data removed]"
          },
          "metadata": {
            "needs_background": "light"
          }
        }
      ]
    },
    {
      "cell_type": "markdown",
      "source": [
        "Ahora, finalmente podemos realizar métricas de rendimiento del modelo cuando este predice los datos de Test. Para la tarea de clasificación, podemos utilizar la presición, recall o el f1-score. Todas estas métricas se basan en los errores tipo 1 (Falso positivo) y tipo 2(Falso negativo).\n",
        "\n",
        "<p align=\"center\">\n",
        "<img src=\"https://www.researchgate.net/profile/Sebastian-Bittrich/publication/330174519/figure/fig1/AS:711883078258689@1546737560677/Confusion-matrix-Exemplified-CM-with-the-formulas-of-precision-PR-recall-RE.png\" height=\"220\">\n",
        "</p>"
      ],
      "metadata": {
        "id": "heFu2mV8TWWw"
      }
    },
    {
      "cell_type": "code",
      "source": [
        "from sklearn.metrics import accuracy_score, classification_report, multilabel_confusion_matrix, precision_score\n",
        "Y_pred = modelo.predict(X_test)\n",
        "Y_pred[Y_pred<=0.5]=0\n",
        "Y_pred[Y_pred>0.5]=1\n",
        "Y_exp = Y_test\n",
        "print(accuracy_score(Y_exp, Y_pred))\n",
        "print(classification_report(Y_exp, Y_pred))"
      ],
      "metadata": {
        "colab": {
          "base_uri": "https://localhost:8080/"
        },
        "id": "LVNFc2OSVo48",
        "outputId": "1a272145-4efc-4480-8e52-6c43cfbe39a5"
      },
      "execution_count": null,
      "outputs": [
        {
          "output_type": "stream",
          "name": "stdout",
          "text": [
            "0.9266666666666666\n",
            "              precision    recall  f1-score   support\n",
            "\n",
            "           0       0.96      0.90      0.93        78\n",
            "           1       0.90      0.96      0.93        72\n",
            "\n",
            "    accuracy                           0.93       150\n",
            "   macro avg       0.93      0.93      0.93       150\n",
            "weighted avg       0.93      0.93      0.93       150\n",
            "\n"
          ]
        }
      ]
    },
    {
      "cell_type": "markdown",
      "source": [
        "Ahora prueben cambiando la arquitectura de la red o el dataset y su procesamiento."
      ],
      "metadata": {
        "id": "wxOgeMJPXSI8"
      }
    },
    {
      "cell_type": "markdown",
      "source": [
        "# Net from scratch"
      ],
      "metadata": {
        "id": "wlxX1eAjv7wq"
      }
    },
    {
      "cell_type": "markdown",
      "source": [
        "##Data"
      ],
      "metadata": {
        "id": "N1e2CwW2aBxF"
      }
    },
    {
      "cell_type": "code",
      "execution_count": null,
      "metadata": {
        "id": "Yj8yA6Si5GcQ"
      },
      "outputs": [],
      "source": [
        "import pandas as pd\n"
      ]
    },
    {
      "cell_type": "code",
      "source": [
        "df=pd.read_csv(\"Input.csv\")\n",
        "df=df[:500]"
      ],
      "metadata": {
        "id": "edT4QhYsYxXT"
      },
      "execution_count": null,
      "outputs": []
    },
    {
      "cell_type": "code",
      "source": [
        "print(df.shape)"
      ],
      "metadata": {
        "colab": {
          "base_uri": "https://localhost:8080/"
        },
        "id": "vmmDb0cRgZYV",
        "outputId": "ec8dc453-dcfa-457e-e87d-7ca0d561c58c"
      },
      "execution_count": null,
      "outputs": [
        {
          "output_type": "stream",
          "name": "stdout",
          "text": [
            "(500, 61)\n"
          ]
        }
      ]
    },
    {
      "cell_type": "code",
      "source": [
        "df.head()"
      ],
      "metadata": {
        "colab": {
          "base_uri": "https://localhost:8080/",
          "height": 291
        },
        "id": "UCScIdlW6n-Q",
        "outputId": "a5c1623d-5949-4c60-ab0a-a8c183413b62"
      },
      "execution_count": null,
      "outputs": [
        {
          "output_type": "execute_result",
          "data": {
            "text/plain": [
              "       gameId   creationTime  gameDuration  seasonId  winner  firstBlood  \\\n",
              "0  3326086514  1504279457970          1949         9       1           2   \n",
              "1  3229566029  1497848803862          1851         9       1           1   \n",
              "2  3327363504  1504360103310          1493         9       1           2   \n",
              "3  3326856598  1504348503996          1758         9       1           1   \n",
              "4  3330080762  1504554410899          2094         9       1           2   \n",
              "\n",
              "   firstTower  firstInhibitor  firstBaron  firstDragon  ...  t2_towerKills  \\\n",
              "0           1               1           1            1  ...              5   \n",
              "1           1               1           0            1  ...              2   \n",
              "2           1               1           1            2  ...              2   \n",
              "3           1               1           1            1  ...              0   \n",
              "4           1               1           1            1  ...              3   \n",
              "\n",
              "   t2_inhibitorKills  t2_baronKills  t2_dragonKills  t2_riftHeraldKills  \\\n",
              "0                  0              0               1                   1   \n",
              "1                  0              0               0                   0   \n",
              "2                  0              0               1                   0   \n",
              "3                  0              0               0                   0   \n",
              "4                  0              0               1                   0   \n",
              "\n",
              "   t2_ban1  t2_ban2  t2_ban3  t2_ban4  t2_ban5  \n",
              "0      114       67       43       16       51  \n",
              "1       11       67      238       51      420  \n",
              "2      157      238      121       57       28  \n",
              "3      164       18      141       40       51  \n",
              "4       86       11      201      122       18  \n",
              "\n",
              "[5 rows x 61 columns]"
            ],
            "text/html": [
              "\n",
              "  <div id=\"df-1401856e-dfb2-4ba3-b79b-265e3de8fe29\">\n",
              "    <div class=\"colab-df-container\">\n",
              "      <div>\n",
              "<style scoped>\n",
              "    .dataframe tbody tr th:only-of-type {\n",
              "        vertical-align: middle;\n",
              "    }\n",
              "\n",
              "    .dataframe tbody tr th {\n",
              "        vertical-align: top;\n",
              "    }\n",
              "\n",
              "    .dataframe thead th {\n",
              "        text-align: right;\n",
              "    }\n",
              "</style>\n",
              "<table border=\"1\" class=\"dataframe\">\n",
              "  <thead>\n",
              "    <tr style=\"text-align: right;\">\n",
              "      <th></th>\n",
              "      <th>gameId</th>\n",
              "      <th>creationTime</th>\n",
              "      <th>gameDuration</th>\n",
              "      <th>seasonId</th>\n",
              "      <th>winner</th>\n",
              "      <th>firstBlood</th>\n",
              "      <th>firstTower</th>\n",
              "      <th>firstInhibitor</th>\n",
              "      <th>firstBaron</th>\n",
              "      <th>firstDragon</th>\n",
              "      <th>...</th>\n",
              "      <th>t2_towerKills</th>\n",
              "      <th>t2_inhibitorKills</th>\n",
              "      <th>t2_baronKills</th>\n",
              "      <th>t2_dragonKills</th>\n",
              "      <th>t2_riftHeraldKills</th>\n",
              "      <th>t2_ban1</th>\n",
              "      <th>t2_ban2</th>\n",
              "      <th>t2_ban3</th>\n",
              "      <th>t2_ban4</th>\n",
              "      <th>t2_ban5</th>\n",
              "    </tr>\n",
              "  </thead>\n",
              "  <tbody>\n",
              "    <tr>\n",
              "      <th>0</th>\n",
              "      <td>3326086514</td>\n",
              "      <td>1504279457970</td>\n",
              "      <td>1949</td>\n",
              "      <td>9</td>\n",
              "      <td>1</td>\n",
              "      <td>2</td>\n",
              "      <td>1</td>\n",
              "      <td>1</td>\n",
              "      <td>1</td>\n",
              "      <td>1</td>\n",
              "      <td>...</td>\n",
              "      <td>5</td>\n",
              "      <td>0</td>\n",
              "      <td>0</td>\n",
              "      <td>1</td>\n",
              "      <td>1</td>\n",
              "      <td>114</td>\n",
              "      <td>67</td>\n",
              "      <td>43</td>\n",
              "      <td>16</td>\n",
              "      <td>51</td>\n",
              "    </tr>\n",
              "    <tr>\n",
              "      <th>1</th>\n",
              "      <td>3229566029</td>\n",
              "      <td>1497848803862</td>\n",
              "      <td>1851</td>\n",
              "      <td>9</td>\n",
              "      <td>1</td>\n",
              "      <td>1</td>\n",
              "      <td>1</td>\n",
              "      <td>1</td>\n",
              "      <td>0</td>\n",
              "      <td>1</td>\n",
              "      <td>...</td>\n",
              "      <td>2</td>\n",
              "      <td>0</td>\n",
              "      <td>0</td>\n",
              "      <td>0</td>\n",
              "      <td>0</td>\n",
              "      <td>11</td>\n",
              "      <td>67</td>\n",
              "      <td>238</td>\n",
              "      <td>51</td>\n",
              "      <td>420</td>\n",
              "    </tr>\n",
              "    <tr>\n",
              "      <th>2</th>\n",
              "      <td>3327363504</td>\n",
              "      <td>1504360103310</td>\n",
              "      <td>1493</td>\n",
              "      <td>9</td>\n",
              "      <td>1</td>\n",
              "      <td>2</td>\n",
              "      <td>1</td>\n",
              "      <td>1</td>\n",
              "      <td>1</td>\n",
              "      <td>2</td>\n",
              "      <td>...</td>\n",
              "      <td>2</td>\n",
              "      <td>0</td>\n",
              "      <td>0</td>\n",
              "      <td>1</td>\n",
              "      <td>0</td>\n",
              "      <td>157</td>\n",
              "      <td>238</td>\n",
              "      <td>121</td>\n",
              "      <td>57</td>\n",
              "      <td>28</td>\n",
              "    </tr>\n",
              "    <tr>\n",
              "      <th>3</th>\n",
              "      <td>3326856598</td>\n",
              "      <td>1504348503996</td>\n",
              "      <td>1758</td>\n",
              "      <td>9</td>\n",
              "      <td>1</td>\n",
              "      <td>1</td>\n",
              "      <td>1</td>\n",
              "      <td>1</td>\n",
              "      <td>1</td>\n",
              "      <td>1</td>\n",
              "      <td>...</td>\n",
              "      <td>0</td>\n",
              "      <td>0</td>\n",
              "      <td>0</td>\n",
              "      <td>0</td>\n",
              "      <td>0</td>\n",
              "      <td>164</td>\n",
              "      <td>18</td>\n",
              "      <td>141</td>\n",
              "      <td>40</td>\n",
              "      <td>51</td>\n",
              "    </tr>\n",
              "    <tr>\n",
              "      <th>4</th>\n",
              "      <td>3330080762</td>\n",
              "      <td>1504554410899</td>\n",
              "      <td>2094</td>\n",
              "      <td>9</td>\n",
              "      <td>1</td>\n",
              "      <td>2</td>\n",
              "      <td>1</td>\n",
              "      <td>1</td>\n",
              "      <td>1</td>\n",
              "      <td>1</td>\n",
              "      <td>...</td>\n",
              "      <td>3</td>\n",
              "      <td>0</td>\n",
              "      <td>0</td>\n",
              "      <td>1</td>\n",
              "      <td>0</td>\n",
              "      <td>86</td>\n",
              "      <td>11</td>\n",
              "      <td>201</td>\n",
              "      <td>122</td>\n",
              "      <td>18</td>\n",
              "    </tr>\n",
              "  </tbody>\n",
              "</table>\n",
              "<p>5 rows × 61 columns</p>\n",
              "</div>\n",
              "      <button class=\"colab-df-convert\" onclick=\"convertToInteractive('df-1401856e-dfb2-4ba3-b79b-265e3de8fe29')\"\n",
              "              title=\"Convert this dataframe to an interactive table.\"\n",
              "              style=\"display:none;\">\n",
              "        \n",
              "  <svg xmlns=\"http://www.w3.org/2000/svg\" height=\"24px\"viewBox=\"0 0 24 24\"\n",
              "       width=\"24px\">\n",
              "    <path d=\"M0 0h24v24H0V0z\" fill=\"none\"/>\n",
              "    <path d=\"M18.56 5.44l.94 2.06.94-2.06 2.06-.94-2.06-.94-.94-2.06-.94 2.06-2.06.94zm-11 1L8.5 8.5l.94-2.06 2.06-.94-2.06-.94L8.5 2.5l-.94 2.06-2.06.94zm10 10l.94 2.06.94-2.06 2.06-.94-2.06-.94-.94-2.06-.94 2.06-2.06.94z\"/><path d=\"M17.41 7.96l-1.37-1.37c-.4-.4-.92-.59-1.43-.59-.52 0-1.04.2-1.43.59L10.3 9.45l-7.72 7.72c-.78.78-.78 2.05 0 2.83L4 21.41c.39.39.9.59 1.41.59.51 0 1.02-.2 1.41-.59l7.78-7.78 2.81-2.81c.8-.78.8-2.07 0-2.86zM5.41 20L4 18.59l7.72-7.72 1.47 1.35L5.41 20z\"/>\n",
              "  </svg>\n",
              "      </button>\n",
              "      \n",
              "  <style>\n",
              "    .colab-df-container {\n",
              "      display:flex;\n",
              "      flex-wrap:wrap;\n",
              "      gap: 12px;\n",
              "    }\n",
              "\n",
              "    .colab-df-convert {\n",
              "      background-color: #E8F0FE;\n",
              "      border: none;\n",
              "      border-radius: 50%;\n",
              "      cursor: pointer;\n",
              "      display: none;\n",
              "      fill: #1967D2;\n",
              "      height: 32px;\n",
              "      padding: 0 0 0 0;\n",
              "      width: 32px;\n",
              "    }\n",
              "\n",
              "    .colab-df-convert:hover {\n",
              "      background-color: #E2EBFA;\n",
              "      box-shadow: 0px 1px 2px rgba(60, 64, 67, 0.3), 0px 1px 3px 1px rgba(60, 64, 67, 0.15);\n",
              "      fill: #174EA6;\n",
              "    }\n",
              "\n",
              "    [theme=dark] .colab-df-convert {\n",
              "      background-color: #3B4455;\n",
              "      fill: #D2E3FC;\n",
              "    }\n",
              "\n",
              "    [theme=dark] .colab-df-convert:hover {\n",
              "      background-color: #434B5C;\n",
              "      box-shadow: 0px 1px 3px 1px rgba(0, 0, 0, 0.15);\n",
              "      filter: drop-shadow(0px 1px 2px rgba(0, 0, 0, 0.3));\n",
              "      fill: #FFFFFF;\n",
              "    }\n",
              "  </style>\n",
              "\n",
              "      <script>\n",
              "        const buttonEl =\n",
              "          document.querySelector('#df-1401856e-dfb2-4ba3-b79b-265e3de8fe29 button.colab-df-convert');\n",
              "        buttonEl.style.display =\n",
              "          google.colab.kernel.accessAllowed ? 'block' : 'none';\n",
              "\n",
              "        async function convertToInteractive(key) {\n",
              "          const element = document.querySelector('#df-1401856e-dfb2-4ba3-b79b-265e3de8fe29');\n",
              "          const dataTable =\n",
              "            await google.colab.kernel.invokeFunction('convertToInteractive',\n",
              "                                                     [key], {});\n",
              "          if (!dataTable) return;\n",
              "\n",
              "          const docLinkHtml = 'Like what you see? Visit the ' +\n",
              "            '<a target=\"_blank\" href=https://colab.research.google.com/notebooks/data_table.ipynb>data table notebook</a>'\n",
              "            + ' to learn more about interactive tables.';\n",
              "          element.innerHTML = '';\n",
              "          dataTable['output_type'] = 'display_data';\n",
              "          await google.colab.output.renderOutput(dataTable, element);\n",
              "          const docLink = document.createElement('div');\n",
              "          docLink.innerHTML = docLinkHtml;\n",
              "          element.appendChild(docLink);\n",
              "        }\n",
              "      </script>\n",
              "    </div>\n",
              "  </div>\n",
              "  "
            ]
          },
          "metadata": {},
          "execution_count": 21
        }
      ]
    },
    {
      "cell_type": "code",
      "source": [
        "Y=pd.DataFrame(df[\"winner\"])\n",
        "Y.columns=[0]\n",
        "Y[Y==1]=0\n",
        "Y[Y==2]=1\n",
        "X=df.drop([\"winner\",\"seasonId\",\"creationTime\",\"gameId\"],axis=1)\n",
        "X = (X-X.mean())/X.std()\n",
        "p=57\n",
        "print(Y)"
      ],
      "metadata": {
        "id": "BYyL-Vw4aLxa",
        "colab": {
          "base_uri": "https://localhost:8080/"
        },
        "outputId": "847bb7db-fcae-46d3-85ac-59b16096715b"
      },
      "execution_count": null,
      "outputs": [
        {
          "output_type": "stream",
          "name": "stdout",
          "text": [
            "     0\n",
            "0    0\n",
            "1    0\n",
            "2    0\n",
            "3    0\n",
            "4    0\n",
            "..  ..\n",
            "495  1\n",
            "496  0\n",
            "497  0\n",
            "498  0\n",
            "499  0\n",
            "\n",
            "[500 rows x 1 columns]\n"
          ]
        }
      ]
    },
    {
      "cell_type": "markdown",
      "source": [
        "## Backpropagation\n",
        "El backpropagation es el mecanismo por el cual la red neuronal aprende. Debido a que se entrena mediante ejemplos, va corrigiendo sus pesos a través de la medición del error en sus predicciones.\n",
        "\n",
        "## Previo: cambiemos de representación\n",
        "\n",
        "En el taller anterior vimos como programar una red neuronal utilizando un grafo, con nodos que contenían listas de nodos para la capa anterior a la que estaban, y podían ir pidiendo hacia atrás el valor esperado. Esta representación, si bien es correcta, es ineficiente ya que para manejar un numero más grande de valores de entrada y neuronas ocultas o de salida, la cantidad de parámetros escala de manera abismal.\n",
        "\n",
        "Para solventar esta problemática es que vamos a cambiar la forma en la que representamos los grafos, utilizando una **matriz de adyacencia**. Esto es una matriz que representa cuando dos nodos dentro de un grafo están conectados, e incluso pueden incluirse los pesos asociados a dicha conexión.\n",
        "\n",
        "<p algign=\"center\">\n",
        "<img src=\"https://i.ibb.co/yW8q85C/image.png\">\n",
        "</p>\n"
      ],
      "metadata": {
        "id": "hiEJfk6iw-kn"
      }
    },
    {
      "cell_type": "code",
      "execution_count": null,
      "metadata": {
        "id": "aGgOedL5w9b5"
      },
      "outputs": [],
      "source": [
        "import numpy as np\n",
        "import scipy as sc\n",
        "import matplotlib.pyplot as plt"
      ]
    },
    {
      "cell_type": "markdown",
      "source": [
        "Para optimizar un poco el código, ahora la función de activación retornará su valor activado y el valor derivado a la vez."
      ],
      "metadata": {
        "id": "5CFMdoWGPh43"
      }
    },
    {
      "cell_type": "markdown",
      "source": [
        "sigmoid"
      ],
      "metadata": {
        "id": "x-TeMeaq10bs"
      }
    },
    {
      "cell_type": "code",
      "source": [
        "def activation(x):\n",
        "  return ((1/(1+np.e**(-x))) , (x * (1-x)))"
      ],
      "metadata": {
        "id": "IMbPq7xr2010"
      },
      "execution_count": null,
      "outputs": []
    },
    {
      "cell_type": "markdown",
      "source": [
        "Crearemos la capa, que ahora solamente tendrá una referencia a su función de activación y los pesos asociados a la conexión con la capa anterior."
      ],
      "metadata": {
        "id": "EBXXSctbPQ_e"
      }
    },
    {
      "cell_type": "code",
      "source": [
        "class Capa():\n",
        "  def __init__(self, n_conexiones: int, n_neuronas: int, activation):\n",
        "    self.activation = activation\n",
        "    self.W = np.random.rand(n_conexiones, n_neuronas) * 2 - 1\n",
        "    \n",
        "    "
      ],
      "metadata": {
        "id": "USZeR9D51U47"
      },
      "execution_count": null,
      "outputs": []
    },
    {
      "cell_type": "code",
      "source": [
        "\n",
        "\n",
        "def forward(red, X):\n",
        "  out = [(None, X)]\n",
        "  for l, capa in enumerate(red):\n",
        "    z = out[-1][1] @ red[l].W # Multiplicación de matrices\n",
        "    a = red[l].activation(z)[0]\n",
        "    out.append((z, a)) # Guardamos todas las combinaciones para poder usar la misma función en el backpropagation\n",
        "  return out\n",
        "\n",
        "#print(coste(forward(red, X)[-1][1], Y)[0]) # el valor [1] del último output se compara con el valor esperado, la función de coste también retorna el valor real y el derivado\n",
        "\n",
        "\n"
      ],
      "metadata": {
        "id": "m13RZA9Z5UL7"
      },
      "execution_count": null,
      "outputs": []
    },
    {
      "cell_type": "markdown",
      "source": [
        "La función de coste se hará igual que la de activación, así que retornaremos el valor normal y el de la derivada del error cuadrático medio."
      ],
      "metadata": {
        "id": "lLFbKY8AR25w"
      }
    },
    {
      "cell_type": "markdown",
      "source": [
        "coste 1"
      ],
      "metadata": {
        "id": "zrN2zYfJP8jY"
      }
    },
    {
      "cell_type": "code",
      "source": [
        "def coste(Ypred, Yesp):\n",
        "  return (np.mean((Ypred - Yesp) ** 2), (Ypred - Yesp))"
      ],
      "metadata": {
        "id": "ZrRMpBXnR_16"
      },
      "execution_count": null,
      "outputs": []
    },
    {
      "cell_type": "markdown",
      "source": [
        "Desde este punto esta el full sigmoid y el relu+ sigmoid, lo separamos aqui porque desde ahora se diferencian las funciones."
      ],
      "metadata": {
        "id": "eqxzR9q-z47Y"
      }
    },
    {
      "cell_type": "markdown",
      "source": [
        "### Full sigmoid"
      ],
      "metadata": {
        "id": "yzTjUOYVxaot"
      }
    },
    {
      "cell_type": "code",
      "source": [
        "def crear_red(topologia: list, activation):\n",
        "  red = []\n",
        "  #for i in range(len(topologia) - 1):\n",
        "  for l, capa in enumerate(topologia[:-1]):\n",
        "    red.append( Capa(topologia[l], topologia[l+1], activation) )\n",
        "  return red"
      ],
      "metadata": {
        "id": "T4aGRBgPtpLk"
      },
      "execution_count": null,
      "outputs": []
    },
    {
      "cell_type": "markdown",
      "source": [
        "Para realizar una predicción, ahora se harán 2 pasos por cada capa: \n",
        "1. Se calculan la suma ponderada (z)\n",
        "2. Se pasa el valor por la función de activación (a)\n",
        "\n",
        "Para usarlo en la fase de entrenamiento, guardaremos ambos valores de cada capa en una lista y la retornaremos."
      ],
      "metadata": {
        "id": "I9lJ-X_MQAUh"
      }
    },
    {
      "cell_type": "markdown",
      "source": [
        "Luego si queremos una predicción, debemos acceder al segundo valor de la última tupla de la lista que retorna su llamado."
      ],
      "metadata": {
        "id": "k1UcSBKDP6hY"
      }
    },
    {
      "cell_type": "code",
      "source": [
        "topologia = [p, 2, 4, 4, 2, 1]\n",
        "red = crear_red(topologia, activation)\n",
        "prediccion = forward(red, X)\n",
        "\n",
        "# La predicción de todos los valores de entrada de X\n",
        "print(prediccion[-1][1])"
      ],
      "metadata": {
        "colab": {
          "base_uri": "https://localhost:8080/"
        },
        "id": "l1uBZ27xv8NC",
        "outputId": "e6357b25-29e1-4e4a-da44-56e8a2c3bdfc"
      },
      "execution_count": null,
      "outputs": [
        {
          "output_type": "stream",
          "name": "stdout",
          "text": [
            "            0\n",
            "0    0.594640\n",
            "1    0.597757\n",
            "2    0.597840\n",
            "3    0.597940\n",
            "4    0.597903\n",
            "..        ...\n",
            "495  0.595132\n",
            "496  0.595036\n",
            "497  0.594830\n",
            "498  0.595138\n",
            "499  0.597602\n",
            "\n",
            "[500 rows x 1 columns]\n"
          ]
        }
      ]
    },
    {
      "cell_type": "markdown",
      "source": [
        "Finalmente queda el entrenamiento. Esta es la parte más complicada de la implementación, ya que debe iterativamente calcular el gradiente de cada capa y actualizarlos luego.\n",
        "\n",
        "Para recordar, en cada capa, el gradiente sería la múltiplicación de su valor de salida con un delta, que define una métrica del error de este resultado. Se tienen 2 casos distintos para esta, los cuales son:\n",
        "\n",
        "1. Para la última capa (la de salida), el delta se calcula mediante\n",
        "\\begin{equation}\n",
        "  \\delta_i = (f(x_i) - Y_{esperado}) \\cdot f'(x_i)\n",
        "\\end{equation}\n",
        "2. Para las capas anteriores, el delta es igual a\n",
        "\\begin{equation}\n",
        "  \\delta_i = (\\sum_{i \\epsilon I} \\delta_i \\cdot w_{ij})  \\cdot f'(x_i)\n",
        "\\end{equation}\n",
        "\n",
        "Con $I$ siendo las neuronas de la capa siguiente a esta.\n",
        "\n",
        "Finalmente, la modificación del gradiente está dada por\n",
        "\n",
        "\\begin{equation}\n",
        "  W_{ij} = W_{ij} - (f(x_j) \\times \\delta_i) \\cdot T_{learn}\n",
        "\\end{equation}\n",
        "\n"
      ],
      "metadata": {
        "id": "bIZAh3FoSI8z"
      }
    },
    {
      "cell_type": "code",
      "source": [
        "def train(red, X, Y, coste, learning_rate=0.001):\n",
        "  # forward \n",
        "  \n",
        "  out = forward(red, X)\n",
        "\n",
        "  # backward pass\n",
        "  delta = []\n",
        "  #for i in range(len(red)-1, -1, -1): # recorrer hacie atrás del largo a 0\n",
        "  for i in reversed(range(0,len(red))):\n",
        "    z = out[i+1][0]\n",
        "    a = out[i+1][1]\n",
        "    if i == len(red)-1:\n",
        "        #delta última capa\n",
        "        delta.insert(0, coste(a, Y)[1] * red[i].activation(a)[1] ) # delta 0 = derivada del coste (osea Ypred - Yesp) * derivada de activación de la capa\n",
        "    else:\n",
        "        # delta respecto al anterior\n",
        "        delta.insert(0, delta[0] @ aux_W.T * red[i].activation(a)[1]) # delta n = delta(n+1) x W(n+1).T * derivada de activación de la capa \n",
        "    aux_W = red[i].W\n",
        "    # Descenso del gradiente\n",
        "    red[i].W = red[i].W - out[i][1].T @ delta[0] * learning_rate # nuevoW[i] = actualW[i] - salida[i].T x delta * learning_rate\n",
        "\n",
        "  return (out[-1][1],red)"
      ],
      "metadata": {
        "id": "-QB6ENbZomJT"
      },
      "execution_count": null,
      "outputs": []
    },
    {
      "cell_type": "code",
      "source": [
        "import time \n",
        "from IPython.display import clear_output\n",
        "topologia = [p, 4 , 10 ,4 , 1]\n",
        "red = crear_red(topologia, activation)\n",
        "loss = []\n",
        "\n",
        "for i in range(100):\n",
        "  pY,red = train(red, X, Y, coste, learning_rate=0.1)\n",
        "  if i % 25 == 0:\n",
        "    costo = coste(pY, Y)[0]\n",
        "    print(f'Coste iteración {i}: {costo}')\n",
        "    loss.append(costo)\n",
        "    \n",
        "\n",
        "    \n",
        "plt.plot(range(len(loss)), loss)\n",
        "plt.show()"
      ],
      "metadata": {
        "colab": {
          "base_uri": "https://localhost:8080/",
          "height": 406
        },
        "id": "bhuYfkyit0pd",
        "outputId": "1e6bd514-4bb3-4c05-e4b0-b5344eef6487"
      },
      "execution_count": null,
      "outputs": [
        {
          "output_type": "stream",
          "name": "stdout",
          "text": [
            "Coste iteración 0: 0    0.270494\n",
            "dtype: float64\n",
            "Coste iteración 25: 0    0.049476\n",
            "dtype: float64\n",
            "Coste iteración 50: 0    0.010205\n",
            "dtype: float64\n",
            "Coste iteración 75: 0    0.00708\n",
            "dtype: float64\n"
          ]
        },
        {
          "output_type": "display_data",
          "data": {
            "text/plain": [
              "<Figure size 432x288 with 1 Axes>"
            ],
            "image/png": "[encoded data removed]"
          },
          "metadata": {
            "needs_background": "light"
          }
        }
      ]
    },
    {
      "cell_type": "markdown",
      "source": [
        "Finalmente podemos ver el entrenamiento en acción si vamos guardando los costes de la función mediante el entrenamiento. Tengan en cuenta que la función *train* sólo hace una instancia del descenso del gradiente, y queremos repetir varias veces el entrenamiento, hasta que sea lo suficientemente bajo o hasta que no hayan cambios significativos del coste entre entrenamientos."
      ],
      "metadata": {
        "id": "EexGrTHsWlxj"
      }
    },
    {
      "cell_type": "code",
      "source": [
        "df=pd.read_csv(\"Input.csv\")\n",
        "df=df[500:700]\n",
        "Y=pd.DataFrame(df[\"winner\"])\n",
        "Y.columns=[0]\n",
        "Y[Y==1]=0\n",
        "Y[Y==2]=1\n",
        "X=df.drop([\"winner\",\"seasonId\",\"creationTime\",\"gameId\"],axis=1)\n",
        "X = (X-X.mean())/X.std()"
      ],
      "metadata": {
        "id": "MluDR2qJ99v_"
      },
      "execution_count": null,
      "outputs": []
    },
    {
      "cell_type": "code",
      "source": [
        "resultado = forward(red,X)\n",
        "print(resultado[-1][1])\n",
        "print(coste(resultado[-1][1], Y)[1])\n",
        "print(coste(resultado[-1][1], Y)[0])"
      ],
      "metadata": {
        "colab": {
          "base_uri": "https://localhost:8080/"
        },
        "id": "n-Y2kKjSR2hX",
        "outputId": "85cc41f7-7eb8-4d57-f6e1-3ecae7551412"
      },
      "execution_count": null,
      "outputs": [
        {
          "output_type": "stream",
          "name": "stdout",
          "text": [
            "            0\n",
            "500  0.001978\n",
            "501  0.985827\n",
            "502  0.985780\n",
            "503  0.655007\n",
            "504  0.002083\n",
            "..        ...\n",
            "695  0.898746\n",
            "696  0.987967\n",
            "697  0.742969\n",
            "698  0.003266\n",
            "699  0.981276\n",
            "\n",
            "[200 rows x 1 columns]\n",
            "            0\n",
            "500  0.001978\n",
            "501 -0.014173\n",
            "502 -0.014220\n",
            "503  0.655007\n",
            "504  0.002083\n",
            "..        ...\n",
            "695 -0.101254\n",
            "696 -0.012033\n",
            "697 -0.257031\n",
            "698 -0.996734\n",
            "699 -0.018724\n",
            "\n",
            "[200 rows x 1 columns]\n",
            "0    0.08014\n",
            "dtype: float64\n"
          ]
        }
      ]
    },
    {
      "cell_type": "code",
      "source": [
        "from sklearn.metrics import accuracy_score, classification_report, multilabel_confusion_matrix, precision_score\n",
        "Y_pred = forward(red,X)[-1][1]\n",
        "Y_pred[Y_pred<=0.5]=0\n",
        "Y_pred[Y_pred>0.5]=1\n",
        "Y_exp = Y\n",
        "print(accuracy_score(Y_exp, Y_pred))\n",
        "print(classification_report(Y_exp, Y_pred))"
      ],
      "metadata": {
        "colab": {
          "base_uri": "https://localhost:8080/"
        },
        "id": "g2l5hbXYwV8H",
        "outputId": "07315464-3916-44e4-f00e-14464644f52f"
      },
      "execution_count": null,
      "outputs": [
        {
          "output_type": "stream",
          "name": "stdout",
          "text": [
            "0.91\n",
            "              precision    recall  f1-score   support\n",
            "\n",
            "           0       0.92      0.90      0.91        97\n",
            "           1       0.90      0.92      0.91       103\n",
            "\n",
            "    accuracy                           0.91       200\n",
            "   macro avg       0.91      0.91      0.91       200\n",
            "weighted avg       0.91      0.91      0.91       200\n",
            "\n"
          ]
        }
      ]
    },
    {
      "cell_type": "markdown",
      "source": [
        "### Relu + Sigmoid"
      ],
      "metadata": {
        "id": "YP7VdhkoyUIt"
      }
    },
    {
      "cell_type": "markdown",
      "source": [
        "sigmoid"
      ],
      "metadata": {
        "id": "tfpijn_Oy8VZ"
      }
    },
    {
      "cell_type": "code",
      "source": [
        "def activation(x):\n",
        "  return ((1/(1+np.e**(-x))) , (x * (1-x)))"
      ],
      "metadata": {
        "id": "jIafD7zyy8Vb"
      },
      "execution_count": null,
      "outputs": []
    },
    {
      "cell_type": "markdown",
      "source": [
        "relu"
      ],
      "metadata": {
        "id": "PJhEZLejICIF"
      }
    },
    {
      "cell_type": "code",
      "source": [
        "def relu_prime(z): \n",
        "  z[z<0]=0\n",
        "  z[z>0]=1\n",
        "  return z"
      ],
      "metadata": {
        "id": "sOa31RSDNvNh"
      },
      "execution_count": null,
      "outputs": []
    },
    {
      "cell_type": "code",
      "source": [
        "def activation2(x):\n",
        "  return ((np.maximum(0, x)), (relu_prime(x)))"
      ],
      "metadata": {
        "id": "5NhUQ5WdCsuh"
      },
      "execution_count": null,
      "outputs": []
    },
    {
      "cell_type": "markdown",
      "source": [
        "Ahora para la red, sólo tendremos un arreglo de capas, y el constructor las creará a partir de una lista como la del taller anterior."
      ],
      "metadata": {
        "id": "dFHlecNbPwY2"
      }
    },
    {
      "cell_type": "code",
      "source": [
        "def crear_red(topologia: list, activation,activation2):\n",
        "  red = []\n",
        "  #for i in range(len(topologia) - 1):\n",
        "  for l, capa in enumerate(topologia[:-1]):\n",
        "    if(len(red)-1==l):\n",
        "      red.append( Capa(topologia[l], topologia[l+1], activation) )\n",
        "    else:\n",
        "      red.append( Capa(topologia[l], topologia[l+1], activation2) )\n",
        "  return red\n",
        "\n"
      ],
      "metadata": {
        "id": "kSPbssgy3lr2"
      },
      "execution_count": null,
      "outputs": []
    },
    {
      "cell_type": "code",
      "source": [
        "topologia = [p, 4, 8, 4, 1]\n",
        "red = crear_red(topologia, activation,activation2)\n",
        "prediccion = forward(red, X)\n",
        "\n",
        "# La predicción de todos los valores de entrada de X\n",
        "print(prediccion[-1][1])"
      ],
      "metadata": {
        "colab": {
          "base_uri": "https://localhost:8080/"
        },
        "id": "HOziXgNCQpXT",
        "outputId": "88620f8f-3d13-4132-ea67-1c2743412cff"
      },
      "execution_count": null,
      "outputs": [
        {
          "output_type": "stream",
          "name": "stdout",
          "text": [
            "            0\n",
            "500  0.427449\n",
            "501  1.080882\n",
            "502  0.000000\n",
            "503  0.669711\n",
            "504  2.629800\n",
            "..        ...\n",
            "695  0.235855\n",
            "696  0.905656\n",
            "697  0.000000\n",
            "698  2.432473\n",
            "699  0.502437\n",
            "\n",
            "[200 rows x 1 columns]\n"
          ]
        }
      ]
    },
    {
      "cell_type": "markdown",
      "source": [
        "Finalmente queda el entrenamiento. Esta es la parte más complicada de la implementación, ya que debe iterativamente calcular el gradiente de cada capa y actualizarlos luego.\n",
        "\n",
        "Para recordar, en cada capa, el gradiente sería la múltiplicación de su valor de salida con un delta, que define una métrica del error de este resultado. Se tienen 2 casos distintos para esta, los cuales son:\n",
        "\n",
        "1. Para la última capa (la de salida), el delta se calcula mediante\n",
        "\\begin{equation}\n",
        "  \\delta_i = (f(x_i) - Y_{esperado}) \\cdot f'(x_i)\n",
        "\\end{equation}\n",
        "2. Para las capas anteriores, el delta es igual a\n",
        "\\begin{equation}\n",
        "  \\delta_i = (\\sum_{i \\epsilon I} \\delta_i \\cdot w_{ij})  \\cdot f'(x_i)\n",
        "\\end{equation}\n",
        "\n",
        "Con $I$ siendo las neuronas de la capa siguiente a esta.\n",
        "\n",
        "Finalmente, la modificación del gradiente está dada por\n",
        "\n",
        "\\begin{equation}\n",
        "  W_{ij} = W_{ij} - (f(x_j) \\times \\delta_i) \\cdot T_{learn}\n",
        "\\end{equation}\n",
        "\n"
      ],
      "metadata": {
        "id": "bMbM9CVeyKoK"
      }
    },
    {
      "cell_type": "code",
      "source": [
        "def train(red, X, Y, coste, learning_rate=0.001):\n",
        "  # forward \n",
        "  out = forward(red, X)\n",
        "\n",
        "  # backward pass\n",
        "  delta = []\n",
        "  #for i in range(len(red)-1, -1, -1): # recorrer hacie atrás del largo a 0\n",
        "  for i in reversed(range(0,len(red))):\n",
        "    z = out[i+1][0]\n",
        "    a = out[i+1][1]\n",
        "    if i == len(red)-1:\n",
        "        #delta última capa\n",
        "        delta.insert(0, coste(a, Y)[1] * red[i].activation(a)[1] ) # delta 0 = derivada del coste (osea Ypred - Yesp) * derivada de activación de la capa\n",
        "    else:\n",
        "        delta.insert(0, delta[0] @ aux_W.T * red[i].activation(z)[1])\n",
        "    aux_W = red[i].W\n",
        "    # Descenso del gradiente\n",
        "    red[i].W = red[i].W - out[i][1].T @ delta[0] * learning_rate # nuevoW[i] = actualW[i] - salida[i].T x delta * learning_rate\n",
        "\n",
        "  return (out[-1][1],red)"
      ],
      "metadata": {
        "id": "ls4Jb2ZkSH0I"
      },
      "execution_count": null,
      "outputs": []
    },
    {
      "cell_type": "code",
      "source": [
        "import time \n",
        "from IPython.display import clear_output\n",
        "topologia = [p, 4 , 10 ,4 , 1]\n",
        "red = crear_red(topologia, activation,activation2)\n",
        "loss = []\n",
        "\n",
        "for i in range(500):\n",
        "  pY,red = train(red, X, Y, coste, learning_rate=0.1)\n",
        "  if i % 25 == 0:\n",
        "    costo = coste(pY, Y)[0]\n",
        "    print(f'Coste iteración {i}: {costo}')\n",
        "    loss.append(costo)\n",
        "    \n",
        "\n",
        "    \n",
        "plt.plot(range(len(loss)), loss)\n",
        "plt.show()"
      ],
      "metadata": {
        "colab": {
          "base_uri": "https://localhost:8080/",
          "height": 975
        },
        "id": "JQz47SH1wcPk",
        "outputId": "8e09a8bc-7469-4c30-d749-c55f2f87fbd0"
      },
      "execution_count": null,
      "outputs": [
        {
          "output_type": "stream",
          "name": "stdout",
          "text": [
            "Coste iteración 0: 0    0.515\n",
            "dtype: float64\n",
            "Coste iteración 25: 0    0.515\n",
            "dtype: float64\n",
            "Coste iteración 50: 0    0.515\n",
            "dtype: float64\n",
            "Coste iteración 75: 0    0.515\n",
            "dtype: float64\n",
            "Coste iteración 100: 0    0.515\n",
            "dtype: float64\n",
            "Coste iteración 125: 0    0.515\n",
            "dtype: float64\n",
            "Coste iteración 150: 0    0.515\n",
            "dtype: float64\n",
            "Coste iteración 175: 0    0.515\n",
            "dtype: float64\n",
            "Coste iteración 200: 0    0.515\n",
            "dtype: float64\n",
            "Coste iteración 225: 0    0.515\n",
            "dtype: float64\n",
            "Coste iteración 250: 0    0.515\n",
            "dtype: float64\n",
            "Coste iteración 275: 0    0.515\n",
            "dtype: float64\n",
            "Coste iteración 300: 0    0.515\n",
            "dtype: float64\n",
            "Coste iteración 325: 0    0.515\n",
            "dtype: float64\n",
            "Coste iteración 350: 0    0.515\n",
            "dtype: float64\n",
            "Coste iteración 375: 0    0.515\n",
            "dtype: float64\n",
            "Coste iteración 400: 0    0.515\n",
            "dtype: float64\n",
            "Coste iteración 425: 0    0.515\n",
            "dtype: float64\n",
            "Coste iteración 450: 0    0.515\n",
            "dtype: float64\n",
            "Coste iteración 475: 0    0.515\n",
            "dtype: float64\n"
          ]
        },
        {
          "output_type": "display_data",
          "data": {
            "text/plain": [
              "<Figure size 432x288 with 1 Axes>"
            ],
            "image/png": "[encoded data removed]"
          },
          "metadata": {
            "needs_background": "light"
          }
        }
      ]
    },
    {
      "cell_type": "code",
      "source": [
        "df=pd.read_csv(\"Input.csv\")\n",
        "df=df[500:700]\n",
        "Y=pd.DataFrame(df[\"winner\"])\n",
        "Y.columns=[0]\n",
        "Y[Y==1]=0\n",
        "Y[Y==2]=1\n",
        "X=df.drop([\"winner\",\"seasonId\",\"creationTime\",\"gameId\"],axis=1)\n",
        "X = (X-X.mean())/X.std()"
      ],
      "metadata": {
        "id": "o1oK-0wVzMkk"
      },
      "execution_count": null,
      "outputs": []
    },
    {
      "cell_type": "code",
      "source": [
        "resultado = forward(red,X)\n",
        "print(resultado[-1][1])\n",
        "print(coste(resultado[-1][1], Y)[1])\n",
        "print(coste(resultado[-1][1], Y)[0])"
      ],
      "metadata": {
        "colab": {
          "base_uri": "https://localhost:8080/"
        },
        "outputId": "631317c9-f7a5-4d3e-a6d0-c9a5b030563b",
        "id": "i7sKxpU3zMkr"
      },
      "execution_count": null,
      "outputs": [
        {
          "output_type": "stream",
          "name": "stdout",
          "text": [
            "       0\n",
            "500  0.0\n",
            "501  0.0\n",
            "502  0.0\n",
            "503  0.0\n",
            "504  0.0\n",
            "..   ...\n",
            "695  0.0\n",
            "696  0.0\n",
            "697  0.0\n",
            "698  0.0\n",
            "699  0.0\n",
            "\n",
            "[200 rows x 1 columns]\n",
            "       0\n",
            "500  0.0\n",
            "501 -1.0\n",
            "502 -1.0\n",
            "503  0.0\n",
            "504  0.0\n",
            "..   ...\n",
            "695 -1.0\n",
            "696 -1.0\n",
            "697 -1.0\n",
            "698 -1.0\n",
            "699 -1.0\n",
            "\n",
            "[200 rows x 1 columns]\n",
            "0    0.515\n",
            "dtype: float64\n"
          ]
        }
      ]
    },
    {
      "cell_type": "code",
      "source": [
        "from sklearn.metrics import accuracy_score, classification_report, multilabel_confusion_matrix, precision_score\n",
        "Y_pred = forward(red,X)[-1][1]\n",
        "Y_pred[Y_pred<=0.5]=0\n",
        "Y_pred[Y_pred>0.5]=1\n",
        "Y_exp = Y\n",
        "print(accuracy_score(Y_exp, Y_pred))\n",
        "print(classification_report(Y_exp, Y_pred))"
      ],
      "metadata": {
        "colab": {
          "base_uri": "https://localhost:8080/"
        },
        "outputId": "434a2e29-b442-4b7c-9fe0-3d037dd7fd66",
        "id": "y5cmHsYGzMkt"
      },
      "execution_count": null,
      "outputs": [
        {
          "output_type": "stream",
          "name": "stdout",
          "text": [
            "0.485\n",
            "              precision    recall  f1-score   support\n",
            "\n",
            "           0       0.48      1.00      0.65        97\n",
            "           1       0.00      0.00      0.00       103\n",
            "\n",
            "    accuracy                           0.48       200\n",
            "   macro avg       0.24      0.50      0.33       200\n",
            "weighted avg       0.24      0.48      0.32       200\n",
            "\n"
          ]
        },
        {
          "output_type": "stream",
          "name": "stderr",
          "text": [
            "/usr/local/lib/python3.7/dist-packages/sklearn/metrics/_classification.py:1318: UndefinedMetricWarning: Precision and F-score are ill-defined and being set to 0.0 in labels with no predicted samples. Use `zero_division` parameter to control this behavior.\n",
            "  _warn_prf(average, modifier, msg_start, len(result))\n",
            "/usr/local/lib/python3.7/dist-packages/sklearn/metrics/_classification.py:1318: UndefinedMetricWarning: Precision and F-score are ill-defined and being set to 0.0 in labels with no predicted samples. Use `zero_division` parameter to control this behavior.\n",
            "  _warn_prf(average, modifier, msg_start, len(result))\n",
            "/usr/local/lib/python3.7/dist-packages/sklearn/metrics/_classification.py:1318: UndefinedMetricWarning: Precision and F-score are ill-defined and being set to 0.0 in labels with no predicted samples. Use `zero_division` parameter to control this behavior.\n",
            "  _warn_prf(average, modifier, msg_start, len(result))\n"
          ]
        }
      ]
    }
  ]
}